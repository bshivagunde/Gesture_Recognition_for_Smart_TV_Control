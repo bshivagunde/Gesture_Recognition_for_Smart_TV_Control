{
  "nbformat": 4,
  "nbformat_minor": 0,
  "metadata": {
    "colab": {
      "provenance": []
    },
    "kernelspec": {
      "name": "python3",
      "display_name": "Python 3"
    },
    "language_info": {
      "name": "python"
    }
  },
  "cells": [
    {
      "cell_type": "markdown",
      "source": [
        "# **Problem Statement** :\n",
        "\n",
        "Build a deep learning model to detect five gestures from videos captured through a smart tv's web camera. These gestures are used to control TV functionality\n",
        "\n",
        "The five gestures and their corresponding TV controls are :\n",
        "\n",
        "1.   Thumbs Up — Increase the volume\n",
        "2.   Thumbs Down — Decrease the volume\n",
        "3.   Left Swipe — 'Jump' backwards 10 seconds\n",
        "4.   Right Swipe — 'Jump' forward 10 seconds\n",
        "4.   Stop — Pause the movie.\n",
        "\n",
        "**Dataset** :\n",
        "The data set contains train and val folders contain 663 , 100 video frames respectively.\n",
        "Two CSV files contain the frames and the corresponding class labels.\n",
        "Each video is made of 30 frames. Frames come in two sizes — 120x160 and 320x320 as they are recorded from two different sources.\n",
        "\n",
        "**Objectives** :\n",
        "Develop a deep learning model that is able to classify the gesture based on the video frames.\n",
        "The deep learning model should have High accuracy Low memory footprint ( to fit in a webcam memory (typically < 50MB)\n",
        "\n",
        "Solution Approach :\n",
        "Two model architectures have been experimented with\n",
        "\n",
        "\n",
        "\n",
        "1.   Conv3D CNNs\n",
        "2.   2D CNN + RNN\n",
        "\n",
        "The 2D CNN + RNN is further divided in to two types as\n",
        "\n",
        "\n",
        "*   Custom CNN + RNN\n",
        "*   Pre-Trained CNN + RNN\n",
        "\n",
        "\n",
        "\n",
        "Final Accuracy of 82% has been achieved using Conv3D CNN"
      ],
      "metadata": {
        "id": "jZkNDKFqG1PL"
      }
    },
    {
      "cell_type": "markdown",
      "source": [
        "# Connect to Drive"
      ],
      "metadata": {
        "id": "4XafyB3p7qV2"
      }
    },
    {
      "cell_type": "code",
      "execution_count": null,
      "metadata": {
        "colab": {
          "base_uri": "https://localhost:8080/"
        },
        "id": "Vb7JxGfh7U65",
        "outputId": "db1cd412-94dc-4042-a27e-7c452fabfe92"
      },
      "outputs": [
        {
          "output_type": "stream",
          "name": "stdout",
          "text": [
            "Drive already mounted at /content/drive; to attempt to forcibly remount, call drive.mount(\"/content/drive\", force_remount=True).\n"
          ]
        }
      ],
      "source": [
        "from google.colab import drive\n",
        "drive.mount('/content/drive')"
      ]
    },
    {
      "cell_type": "markdown",
      "source": [
        "## Get the Data"
      ],
      "metadata": {
        "id": "sAehM1dP8r6t"
      }
    },
    {
      "cell_type": "code",
      "source": [
        "import gdown\n",
        "\n",
        "url = 'https://drive.google.com/uc?id=1ehyrYBQ5rbQQe6yL4XbLWe3FMvuVUGiL'\n",
        "output = '/content/Project_data.zip'\n",
        "\n",
        "gdown.download(url, output, quiet=False)"
      ],
      "metadata": {
        "colab": {
          "base_uri": "https://localhost:8080/",
          "height": 122
        },
        "id": "YmFp0z-R7xVl",
        "outputId": "91fc2831-b010-45cd-8e19-d06619e97e84"
      },
      "execution_count": null,
      "outputs": [
        {
          "output_type": "stream",
          "name": "stderr",
          "text": [
            "Downloading...\n",
            "From (original): https://drive.google.com/uc?id=1ehyrYBQ5rbQQe6yL4XbLWe3FMvuVUGiL\n",
            "From (redirected): https://drive.google.com/uc?id=1ehyrYBQ5rbQQe6yL4XbLWe3FMvuVUGiL&confirm=t&uuid=027e9ada-c2bb-42a8-add9-764e276bdd87\n",
            "To: /content/Project_data.zip\n",
            "100%|██████████| 1.71G/1.71G [00:16<00:00, 100MB/s]\n"
          ]
        },
        {
          "output_type": "execute_result",
          "data": {
            "text/plain": [
              "'/content/Project_data.zip'"
            ],
            "application/vnd.google.colaboratory.intrinsic+json": {
              "type": "string"
            }
          },
          "metadata": {},
          "execution_count": 3
        }
      ]
    },
    {
      "cell_type": "markdown",
      "source": [
        "## Extract the Data"
      ],
      "metadata": {
        "id": "VgZuSnpp8zTh"
      }
    },
    {
      "cell_type": "code",
      "source": [
        "import zipfile\n",
        "import os\n",
        "\n",
        "zip_path = '/content/Project_data.zip'\n",
        "extract_path = '/content/Project_data/'\n",
        "\n",
        "with zipfile.ZipFile(zip_path, 'r') as zip_ref:\n",
        "    zip_ref.extractall(extract_path)"
      ],
      "metadata": {
        "id": "r3tAL9TG8vzf"
      },
      "execution_count": null,
      "outputs": []
    },
    {
      "cell_type": "code",
      "source": [
        "# Check GPU\n",
        "!nvidia-smi"
      ],
      "metadata": {
        "colab": {
          "base_uri": "https://localhost:8080/"
        },
        "id": "fPTrMJJb84IR",
        "outputId": "272c981a-1b4f-481a-f40c-5c301396ee99"
      },
      "execution_count": null,
      "outputs": [
        {
          "output_type": "stream",
          "name": "stdout",
          "text": [
            "Tue Jan 30 13:01:14 2024       \n",
            "+---------------------------------------------------------------------------------------+\n",
            "| NVIDIA-SMI 535.104.05             Driver Version: 535.104.05   CUDA Version: 12.2     |\n",
            "|-----------------------------------------+----------------------+----------------------+\n",
            "| GPU  Name                 Persistence-M | Bus-Id        Disp.A | Volatile Uncorr. ECC |\n",
            "| Fan  Temp   Perf          Pwr:Usage/Cap |         Memory-Usage | GPU-Util  Compute M. |\n",
            "|                                         |                      |               MIG M. |\n",
            "|=========================================+======================+======================|\n",
            "|   0  Tesla T4                       Off | 00000000:00:04.0 Off |                    0 |\n",
            "| N/A   59C    P8              12W /  70W |      0MiB / 15360MiB |      0%      Default |\n",
            "|                                         |                      |                  N/A |\n",
            "+-----------------------------------------+----------------------+----------------------+\n",
            "                                                                                         \n",
            "+---------------------------------------------------------------------------------------+\n",
            "| Processes:                                                                            |\n",
            "|  GPU   GI   CI        PID   Type   Process name                            GPU Memory |\n",
            "|        ID   ID                                                             Usage      |\n",
            "|=======================================================================================|\n",
            "|  No running processes found                                                           |\n",
            "+---------------------------------------------------------------------------------------+\n"
          ]
        }
      ]
    },
    {
      "cell_type": "markdown",
      "source": [
        "## Import Libraries"
      ],
      "metadata": {
        "id": "0_MizGj09BP2"
      }
    },
    {
      "cell_type": "code",
      "source": [
        "import skimage\n",
        "from skimage.io import imread\n",
        "from skimage.transform import resize\n",
        "import numpy as np\n",
        "import datetime\n",
        "import os\n",
        "import warnings\n",
        "warnings.filterwarnings(\"ignore\")\n",
        "from sys import getsizeof\n",
        "np.random.seed(30)\n",
        "import random as rn\n",
        "rn.seed(30)\n",
        "from keras import backend as K\n",
        "import tensorflow as tf\n",
        "#tf.set_random_seed(30)\n",
        "tf.random.set_seed\n",
        "\n",
        "import cv2\n",
        "import matplotlib.pyplot as plt\n",
        "get_ipython().run_line_magic('matplotlib', 'inline')\n",
        "\n",
        "from keras.models import Sequential, Model\n",
        "from keras.layers import Dense, GRU, Flatten, TimeDistributed, Flatten, BatchNormalization, Activation\n",
        "from keras.layers import Conv3D, MaxPooling3D, Conv2D, MaxPooling2D\n",
        "from keras.layers import LSTM\n",
        "from keras.callbacks import ModelCheckpoint, ReduceLROnPlateau, EarlyStopping\n",
        "from keras import optimizers\n",
        "from keras.layers import Dropout\n",
        "\n",
        "import pandas as pd\n",
        "\n",
        "\n",
        "\n",
        "from keras.applications import mobilenet\n",
        "\n",
        "from keras.layers import Dense, GRU, Flatten, TimeDistributed, Flatten, BatchNormalization, Activation,Dropout,GlobalAveragePooling3D,GRU,GlobalAveragePooling2D,LSTM,MaxPool2D,ConvLSTM2D,GlobalAveragePooling1D\n",
        "\n",
        "from tensorflow.keras.layers import Reshape\n",
        "\n",
        "from keras.applications import ResNet152V2"
      ],
      "metadata": {
        "id": "FHnjVXdb8_ZR"
      },
      "execution_count": null,
      "outputs": []
    },
    {
      "cell_type": "code",
      "source": [
        "project_folder='/content/Project_data/Project_data'"
      ],
      "metadata": {
        "id": "bz4WoC3t88ZA"
      },
      "execution_count": null,
      "outputs": []
    },
    {
      "cell_type": "code",
      "source": [
        "\n",
        "train_doc = np.random.permutation(open(f'{project_folder}/train.csv').readlines())\n",
        "val_doc = np.random.permutation(open(f'{project_folder}/val.csv').readlines())\n",
        "\n",
        "Trail_data_Percentage = 1   #0.3\n",
        "# Randomly select 20% of the data for training and validation\n",
        "Trail_train_doc = np.random.choice(train_doc, size=int(Trail_data_Percentage * len(train_doc)), replace=False)\n",
        "Trail_val_doc = np.random.choice(val_doc, size=int(Trail_data_Percentage * len(val_doc)), replace=False)"
      ],
      "metadata": {
        "id": "DYr-GQ24-VsH"
      },
      "execution_count": null,
      "outputs": []
    },
    {
      "cell_type": "markdown",
      "source": [
        "## Check for Class Imbalance"
      ],
      "metadata": {
        "id": "8IGcWFVp12dI"
      }
    },
    {
      "cell_type": "code",
      "source": [
        "import pandas as pd\n",
        "df = pd.DataFrame(train_doc, columns=['original_data'])\n",
        "# Split at ';' and remove '\\n'\n",
        "df[['video_name', 'gesture_name', 'label']] = df['original_data'].str.split(';', expand=True)\n",
        "df['label'] = df['label'].str.rstrip('\\n').astype(int)\n",
        "\n",
        "df.label.value_counts()"
      ],
      "metadata": {
        "colab": {
          "base_uri": "https://localhost:8080/"
        },
        "id": "V1Fdbhnt11tg",
        "outputId": "b3ec8695-def6-45b4-d975-6c78e3282442"
      },
      "execution_count": null,
      "outputs": [
        {
          "output_type": "execute_result",
          "data": {
            "text/plain": [
              "1    137\n",
              "3    137\n",
              "0    136\n",
              "2    130\n",
              "4    123\n",
              "Name: label, dtype: int64"
            ]
          },
          "metadata": {},
          "execution_count": 9
        }
      ]
    },
    {
      "cell_type": "markdown",
      "source": [
        "Defining Some Variables"
      ],
      "metadata": {
        "id": "CI9KSnOe_Ylw"
      }
    },
    {
      "cell_type": "code",
      "source": [
        "batch_size = 10 #experiment with the batch size\n",
        "image_count = 15#30 # number of images to be used for each video\n",
        "image_height=160\n",
        "image_width=160\n",
        "channels=3\n",
        "num_classes=5 # number of classes\n",
        "# image augmentation\n",
        "augmentation = False\n",
        "# retrain cnn\n",
        "retrain = True\n",
        "image_shape = (image_height,image_width,channels)\n",
        "\n",
        "num_epochs = 50#45 #15 # choose the number of epochs"
      ],
      "metadata": {
        "id": "j28yQlMT-kQc"
      },
      "execution_count": null,
      "outputs": []
    },
    {
      "cell_type": "code",
      "source": [
        "def video_frames(mode='alternate',length=None) :\n",
        "    if mode == 'alternate' :\n",
        "        return [0,2,4,6,8,10,12,14,16,18,20,22,24,26,28]\n",
        "    elif mode == 'all' :\n",
        "        return list(range(30))\n",
        "    elif mode == 'middle' :\n",
        "        return list(range(5,25))\n",
        "    elif (mode == 'random') and length :\n",
        "        return sorted(list(np.random(0,29,length)))\n",
        "\n",
        "frames_to_sample = video_frames(mode='alternate')   # Change this if you want"
      ],
      "metadata": {
        "id": "RR9nZekl-rhb"
      },
      "execution_count": null,
      "outputs": []
    },
    {
      "cell_type": "code",
      "source": [
        "input_shape=(image_count,image_width,image_height,channels)\n",
        "curr_dt_time = datetime.datetime.now()\n",
        "\n",
        "\n",
        "train_path = f'{project_folder}/train'\n",
        "val_path = f'{project_folder}/val'"
      ],
      "metadata": {
        "id": "ICMLNsJI_n7a"
      },
      "execution_count": null,
      "outputs": []
    },
    {
      "cell_type": "code",
      "source": [],
      "metadata": {
        "id": "JQ9FW5iN_2d3"
      },
      "execution_count": null,
      "outputs": []
    },
    {
      "cell_type": "markdown",
      "source": [
        "# Image Augmentation"
      ],
      "metadata": {
        "id": "-W7G-lbS_6IV"
      }
    },
    {
      "cell_type": "code",
      "source": [
        "# image augmentation\n",
        "\n",
        "\n",
        "# detecting skin tones. Since, gestures are performed by humans, masking the background and only detecting the skin could be a greate preprocessing step.\n",
        "# The below function is skin tone filter\n",
        "def skin_rules(R_Frame, G_Frame, B_Frame) :\n",
        "    BRG_Max = np.maximum.reduce([B_Frame, G_Frame, R_Frame])\n",
        "    BRG_Min = np.minimum.reduce([B_Frame, G_Frame, R_Frame])\n",
        "    #at uniform daylight, The skin colour illumination's rule is defined by the following equation :\n",
        "    Rule_1 = np.logical_and.reduce([R_Frame > 95, G_Frame > 40, B_Frame > 20 ,\n",
        "                                 BRG_Max - BRG_Min > 15,abs(R_Frame - G_Frame) > 15,\n",
        "                                 R_Frame > G_Frame, R_Frame > B_Frame])\n",
        "    #the skin colour under flashlight or daylight lateral illumination rule is defined by the following equation :\n",
        "    Rule_2 = np.logical_and.reduce([R_Frame > 220, G_Frame > 210, B_Frame > 170,\n",
        "                         abs(R_Frame - G_Frame) <= 15, R_Frame > B_Frame, G_Frame > B_Frame])\n",
        "    #Rule_1 U Rule_2\n",
        "    RGB_Rule = np.logical_or(Rule_1, Rule_2)\n",
        "    return RGB_Rule\n",
        "\n",
        "# The below function detects skin and removes other scene elements.\n",
        "def detect_skin(img) :\n",
        "\n",
        "    mask = skin_rules(img[:,:,0], img[:,:,1], img[:,:,2])\n",
        "    img[:,:,0] = img[:,:,0] * mask\n",
        "    img[:,:,1] = img[:,:,1] * mask\n",
        "    img[:,:,2] = img[:,:,2] * mask\n",
        "\n",
        "    return img\n",
        "\n",
        "def erode(img,kernel) :\n",
        "    img_erode = np.zeros_like(img)\n",
        "\n",
        "    img_erode[:,:,0] = cv2.erode(img[:,:,0],kernel)\n",
        "    img_erode[:,:,1] = cv2.erode(img[:,:,1],kernel)\n",
        "    img_erode[:,:,2] = cv2.erode(img[:,:,2],kernel)\n",
        "\n",
        "    return img_erode\n",
        "\n",
        "def dilate(img,kernel) :\n",
        "    img_dilate = np.zeros_like(img)\n",
        "    img_dilate[:,:,0] = cv2.dilate(img[:,:,0],kernel)\n",
        "    img_dilate[:,:,1] = cv2.dilate(img[:,:,1],kernel)\n",
        "    img_dilate[:,:,2] = cv2.dilate(img[:,:,2],kernel)\n",
        "\n",
        "    return img_dilate\n",
        "\n",
        "\n",
        "def closing(img,kernel) :\n",
        "    return dilate(erode(img,kernel),kernel)\n",
        "\n",
        "def opening(img,kernel) :\n",
        "    return erode(dilate(img,kernel),kernel)\n",
        "\n",
        "\n",
        "def open_close(img,kernel) :\n",
        "    return closing(opening(img,kernel),kernel)\n",
        "\n",
        "def close_open(img,kernel) :\n",
        "    return closing(opening(img,kernel),kernel)\n",
        "\n",
        "# opencv normalisation is used to prevent any math overflows.\n",
        "def cv_normalise(img) :\n",
        "    img_new = np.zeros_like(img)\n",
        "    cv2.normalize(img, img_new , 0,1, cv2.NORM_MINMAX)\n",
        "\n",
        "    assert round(np.max(img_new),1) == 1, 'Normalisation error'+ str(np.max(img_new))\n",
        "    assert round(np.min(img_new),1) == 0 ,'Normalisation error'+ str(np.min(img_new))\n",
        "\n",
        "    return img_new\n",
        "\n",
        "\n",
        "# opening and then closing is performed to remove noise from images and then skin is detected\n",
        "def preprocess_image(img,kernel) :\n",
        "\n",
        "    img = open_close(img,kernel)\n",
        "    img = detect_skin(img)\n",
        "\n",
        "    return img"
      ],
      "metadata": {
        "id": "-NZDmaYE_8Y7"
      },
      "execution_count": null,
      "outputs": []
    },
    {
      "cell_type": "code",
      "source": [],
      "metadata": {
        "id": "jESmgRvU__AC"
      },
      "execution_count": null,
      "outputs": []
    },
    {
      "cell_type": "markdown",
      "source": [
        "# Defining Some Functions"
      ],
      "metadata": {
        "id": "xx6lShzGACPB"
      }
    },
    {
      "cell_type": "code",
      "source": [
        "# model training history plot\n",
        "def plot_model_history(history):\n",
        "    fig, axes = plt.subplots(nrows=1, ncols=2, figsize=(15,4))\n",
        "    axes[0].plot(history.history['loss'])\n",
        "    axes[0].plot(history.history['val_loss'])\n",
        "    axes[0].legend(['loss','val_loss'])\n",
        "\n",
        "    axes[1].plot(history.history['categorical_accuracy'])\n",
        "    axes[1].plot(history.history['val_categorical_accuracy'])\n",
        "    axes[1].legend(['categorical_accuracy','val_categorical_accuracy'])"
      ],
      "metadata": {
        "id": "UxQN335vAGjE"
      },
      "execution_count": null,
      "outputs": []
    },
    {
      "cell_type": "code",
      "source": [
        "train_doc = np.random.permutation(open(f'{project_folder}/train.csv').readlines())\n",
        "val_doc = np.random.permutation(open(f'{project_folder}/val.csv').readlines())\n",
        "batch_size = 10 #experiment with the batch size\n",
        "image_count = 30 # number of images to be used for each video\n",
        "image_height=160\n",
        "image_width=160\n",
        "channels=3\n",
        "num_classes=5 # number of classes\n",
        "input_shape=(image_count,image_width,image_height,channels)\n",
        "curr_dt_time = datetime.datetime.now()\n",
        "train_path = f'{project_folder}/train'\n",
        "val_path = f'{project_folder}/val'\n",
        "num_train_sequences = len(train_doc)\n",
        "print('# training sequences =', num_train_sequences)\n",
        "num_val_sequences = len(val_doc)\n",
        "print('# validation sequences =', num_val_sequences)\n",
        "num_epochs = 50 # choose the number of epochs\n",
        "print ('# epochs =', num_epochs)"
      ],
      "metadata": {
        "id": "DcVGIuDfjpPY",
        "colab": {
          "base_uri": "https://localhost:8080/"
        },
        "outputId": "de2a8026-4807-484b-96e5-61c18ce3e6a6"
      },
      "execution_count": null,
      "outputs": [
        {
          "output_type": "stream",
          "name": "stdout",
          "text": [
            "# training sequences = 663\n",
            "# validation sequences = 100\n",
            "# epochs = 50\n"
          ]
        }
      ]
    },
    {
      "cell_type": "code",
      "source": [
        "\n",
        "\n",
        "\n",
        "def generator(source_path, folder_list, batch_size = batch_size, augmentation=augmentation):\n",
        "    print( 'Source path = ', source_path, '; batch size =', batch_size)\n",
        "    img_idx =[x for x in range(0,image_count)]\n",
        "    while True:\n",
        "        t = np.random.permutation(folder_list)\n",
        "        num_batches = len(t)//batch_size    # calculate the number of batches\n",
        "        for batch in range(num_batches): # we iterate over the number of batches\n",
        "            batch_data = np.zeros((batch_size,image_count,image_width,image_height,channels)) # x is the number of images you use for each video, (y,z) is the final size of the input images and 3 is the number of channels RGB\n",
        "            batch_labels = np.zeros((batch_size,num_classes)) # batch_labels is the one hot representation of the output\n",
        "            for folder in range(batch_size): # iterate over the batch_size\n",
        "                imgs = os.listdir(source_path+'/'+ t[folder + (batch*batch_size)].split(';')[0]) # read all the images in the folder\n",
        "                for idx,item in enumerate(img_idx): #  Iterate iver the frames/images of a folder to read them in\n",
        "                    image = imread(source_path+'/'+ t[folder + (batch*batch_size)].strip().split(';')[0]+'/'+imgs[item]).astype(np.float32)\n",
        "\n",
        "                    #crop the images and resize them. Note that the images are of 2 different shape\n",
        "                    #and the conv3D will throw error if the inputs in a batch have different shapes\n",
        "\n",
        "                    temp = cv2.resize(image,(image_width,image_height))\n",
        "                    temp = temp/255 #Normalize data\n",
        "\n",
        "                    batch_data[folder,idx,:,:,0] = (temp[:,:,0])  #normalise and feed in the image\n",
        "                    batch_data[folder,idx,:,:,1] = (temp[:,:,1])  #normalise and feed in the image\n",
        "                    batch_data[folder,idx,:,:,2] = (temp[:,:,2])  #normalise and feed in the image\n",
        "\n",
        "                batch_labels[folder, int(t[folder + (batch*batch_size)].strip().split(';')[2])] = 1\n",
        "            yield batch_data, batch_labels #you yield the batch_data and the batch_labels, remember what does yield do\n",
        "\n",
        "\n",
        "        # write the code for the remaining data points which are left after full batches\n",
        "        if (len(folder_list) != batch_size*num_batches):\n",
        "            print(\"Batch: \",num_batches+1,\"Index:\", batch_size)\n",
        "            batch_size = len(folder_list) - (batch_size*num_batches)\n",
        "            batch_data = np.zeros((batch_size,image_count,image_width,image_height,channels)) # x is the number of images you use for each video, (y,z) is the final size of the input images and 3 is the number of channels RGB\n",
        "            batch_labels = np.zeros((batch_size,num_classes)) # batch_labels is the one hot representation of the output\n",
        "            for folder in range(batch_size): # iterate over the batch_size\n",
        "                imgs = os.listdir(source_path+'/'+ t[folder + (batch*batch_size)].split(';')[0]) # read all the images in the folder\n",
        "                for idx,item in enumerate(img_idx): #  Iterate iver the frames/images of a folder to read them in\n",
        "                    image = imread(source_path+'/'+ t[folder + (batch*batch_size)].strip().split(';')[0]+'/'+imgs[item]).astype(np.float32)\n",
        "\n",
        "                    #crop the images and resize them. Note that the images are of 2 different shape\n",
        "                    #and the conv3D will throw error if the inputs in a batch have different shapes\n",
        "                    temp = cv2.resize(image,(image_width,image_height))\n",
        "                    temp = temp/255 #Normalize data\n",
        "\n",
        "                    batch_data[folder,idx,:,:,0] = (temp[:,:,0])\n",
        "                    batch_data[folder,idx,:,:,1] = (temp[:,:,1])\n",
        "                    batch_data[folder,idx,:,:,2] = (temp[:,:,2])\n",
        "\n",
        "                batch_labels[folder, int(t[folder + (batch*batch_size)].strip().split(';')[2])] = 1\n",
        "            yield batch_data, batch_labels"
      ],
      "metadata": {
        "id": "fbsxIeyvAIiL"
      },
      "execution_count": null,
      "outputs": []
    },
    {
      "cell_type": "code",
      "source": [
        "# Generator check\n",
        "\n",
        "x,y = next(generator(val_path, val_doc, batch_size,augmentation=False))\n",
        "print(x.shape)\n",
        "print(y.shape)\n",
        "\n",
        "x,y = next(generator(train_path, train_doc, batch_size))\n",
        "print(x.shape)\n",
        "print(y.shape)"
      ],
      "metadata": {
        "colab": {
          "base_uri": "https://localhost:8080/"
        },
        "id": "L6IrJCRDFvpx",
        "outputId": "20f97728-7a43-43b7-e24e-3658a7b5e4c8"
      },
      "execution_count": null,
      "outputs": [
        {
          "output_type": "stream",
          "name": "stdout",
          "text": [
            "Source path =  /content/Project_data/Project_data/val ; batch size = 10\n",
            "(10, 30, 160, 160, 3)\n",
            "(10, 5)\n",
            "Source path =  /content/Project_data/Project_data/train ; batch size = 10\n",
            "(10, 30, 160, 160, 3)\n",
            "(10, 5)\n"
          ]
        }
      ]
    },
    {
      "cell_type": "code",
      "source": [
        "# Calling the generator function\n",
        "train_generator = generator(train_path, train_doc, batch_size)\n",
        "val_generator = generator(val_path, val_doc, batch_size,augmentation=False)\n",
        "\n",
        "Trail_train_generator = generator(train_path, Trail_train_doc, batch_size)\n",
        "Trail_val_generator = generator(val_path, Trail_val_doc, batch_size, augmentation=False)"
      ],
      "metadata": {
        "id": "DE_B_Y6-ANzF"
      },
      "execution_count": null,
      "outputs": []
    },
    {
      "cell_type": "code",
      "source": [
        "model_name = 'Conv3D_Model' + '_' + str(curr_dt_time).replace(' ','').replace(':','_') + '/'\n",
        "\n",
        "if not os.path.exists(model_name):\n",
        "    os.mkdir(model_name)\n",
        "\n",
        "filepath = model_name + 'model-{epoch:05d}-{loss:.5f}-{categorical_accuracy:.5f}-{val_loss:.5f}-{val_categorical_accuracy:.5f}.h5'\n",
        "\n",
        "checkpoint = ModelCheckpoint(filepath, monitor='val_loss', verbose=1, save_best_only=False, save_weights_only=False, mode='auto', period=1)\n",
        "\n",
        "LR = tf.keras.callbacks.ReduceLROnPlateau(\n",
        "    monitor=\"val_loss\",\n",
        "    factor=0.2,\n",
        "    patience=4,\n",
        ")\n",
        "# earlyStopping = tf.keras.callbacks.EarlyStopping(\n",
        "#     monitor=\"val_loss\",\n",
        "#     min_delta=0.00001,\n",
        "# )\n",
        "\n",
        "callbacks = [checkpoint,LR]"
      ],
      "metadata": {
        "colab": {
          "base_uri": "https://localhost:8080/"
        },
        "id": "cmPodl46AfA1",
        "outputId": "300bffaa-82fb-4123-88e4-5f59775973a7"
      },
      "execution_count": null,
      "outputs": [
        {
          "output_type": "stream",
          "name": "stderr",
          "text": [
            "WARNING:tensorflow:`period` argument is deprecated. Please use `save_freq` to specify the frequency in number of batches seen.\n"
          ]
        }
      ]
    },
    {
      "cell_type": "code",
      "source": [
        "num_train_sequences = len(Trail_train_doc)\n",
        "print('Number of training sequences =', num_train_sequences)\n",
        "\n",
        "num_val_sequences = len(Trail_val_doc)\n",
        "print('Number of validation sequences =', num_val_sequences)\n",
        "\n",
        "print('Batch size is =', batch_size)\n",
        "num_epochs = 55\n",
        "print('Number of epochs =', num_epochs)\n",
        "\n",
        "if (num_train_sequences%batch_size) == 0:\n",
        "    steps_per_epoch = int(num_train_sequences/batch_size)\n",
        "else:\n",
        "    steps_per_epoch = (num_train_sequences//batch_size) + 1\n",
        "if (num_val_sequences%batch_size) == 0:\n",
        "    validation_steps = int(num_val_sequences/batch_size)\n",
        "else:\n",
        "    validation_steps = (num_val_sequences//batch_size) + 1\n",
        "\n",
        "print('steps_per_epoch = ',steps_per_epoch)\n",
        "print('validation_steps = ',validation_steps)"
      ],
      "metadata": {
        "colab": {
          "base_uri": "https://localhost:8080/"
        },
        "id": "3J3I7-P6A3jK",
        "outputId": "be9ffaa1-0c71-459d-f06b-f6b436fe9d56"
      },
      "execution_count": null,
      "outputs": [
        {
          "output_type": "stream",
          "name": "stdout",
          "text": [
            "Number of training sequences = 663\n",
            "Number of validation sequences = 100\n",
            "Batch size is = 10\n",
            "Number of epochs = 55\n",
            "steps_per_epoch =  67\n",
            "validation_steps =  10\n"
          ]
        }
      ]
    },
    {
      "cell_type": "markdown",
      "source": [
        "# Define Model"
      ],
      "metadata": {
        "id": "9n4SSc3pB4A-"
      }
    },
    {
      "cell_type": "markdown",
      "source": [
        "# 3D Convolution Model"
      ],
      "metadata": {
        "id": "2HYLvZgWznLp"
      }
    },
    {
      "cell_type": "code",
      "source": [
        "\n",
        "filtersize=(3,3,3)\n",
        "dense_neurons=64\n",
        "dropout=0.25\n",
        "\n",
        "model = Sequential()\n",
        "model.add(Conv3D(16, filtersize, padding='same',\n",
        "          input_shape=input_shape))\n",
        "model.add(Activation('relu'))\n",
        "\n",
        "model.add(Conv3D(32, filtersize, padding='same'))\n",
        "model.add(Activation('relu'))\n",
        "#model.add(BatchNormalization())\n",
        "model.add(MaxPooling3D(pool_size=(2, 2, 2)))\n",
        "\n",
        "model.add(Conv3D(64, filtersize, padding='same'))\n",
        "model.add(Activation('relu'))\n",
        "#model.add(BatchNormalization())\n",
        "model.add(MaxPooling3D(pool_size=(2, 2, 2)))\n",
        "\n",
        "model.add(Conv3D(128, filtersize, padding='same'))\n",
        "model.add(Activation('relu'))\n",
        "#model.add(BatchNormalization())\n",
        "model.add(MaxPooling3D(pool_size=(2, 2, 2)))\n",
        "\n",
        "model.add(Conv3D(256, filtersize, padding='same'))\n",
        "model.add(Activation('relu'))\n",
        "model.add(BatchNormalization())\n",
        "model.add(MaxPooling3D(pool_size=(2, 2, 2)))\n",
        "\n",
        "model.add(Flatten())\n",
        "model.add(Dense(dense_neurons,activation='relu', kernel_regularizer='l2'))\n",
        "\n",
        "model.add(Dense(dense_neurons,activation='relu'))\n",
        "model.add(Dropout(dropout))\n",
        "\n",
        "\n",
        "model.add(Dense(num_classes,activation='softmax'))"
      ],
      "metadata": {
        "id": "4QAcLBdWBPkX"
      },
      "execution_count": null,
      "outputs": []
    },
    {
      "cell_type": "markdown",
      "source": [
        "# Custom CNN + RNN"
      ],
      "metadata": {
        "id": "5kzOoq4LASuW"
      }
    },
    {
      "cell_type": "code",
      "source": [
        "# model = Sequential()\n",
        "# model.add(TimeDistributed(Conv2D(32, (3,3), activation='relu'), input_shape=input_shape))\n",
        "# model.add(TimeDistributed(\n",
        "    # MaxPooling2D((2,2)))\n",
        "# )\n",
        "# model.add(BatchNormalization())\n",
        "# model.add(Dropout(0.2))\n",
        "# model.add(TimeDistributed(\n",
        "    # Conv2D(64, (3,3), activation='relu'))\n",
        "# )\n",
        "# model.add(TimeDistributed(\n",
        "    # MaxPooling2D((2,2)))\n",
        "# )\n",
        "# model.add(BatchNormalization())\n",
        "# model.add(Dropout(0.2))\n",
        "\n",
        "# model.add(TimeDistributed(GlobalAveragePooling2D()))\n",
        "# model.add(TimeDistributed(Dense(64, activation='relu')))\n",
        "# model.add(BatchNormalization())\n",
        "# model.add(Dropout(0.2))\n",
        "\n",
        "# model.add(GRU(128))\n",
        "# model.add(BatchNormalization())\n",
        "# model.add(Dense(num_classes, activation='softmax'))"
      ],
      "metadata": {
        "id": "7ehMc7aMARKU"
      },
      "execution_count": null,
      "outputs": []
    },
    {
      "cell_type": "markdown",
      "source": [
        "# Custom CNN + LSTM"
      ],
      "metadata": {
        "id": "yvAWd7qwphn8"
      }
    },
    {
      "cell_type": "code",
      "source": [
        "# lstm_cells=64\n",
        "# dense_neurons=64\n",
        "# dropout=0.25\n",
        "# model = Sequential()\n",
        "\n",
        "# model.add(TimeDistributed(Conv2D(16, (3, 3) , padding='same', activation='relu'),\n",
        "                          # input_shape=(self.frames_to_sample,self.image_height,self.image_width,self.channels)))\n",
        "# model.add(TimeDistributed(BatchNormalization()))\n",
        "# model.add(TimeDistributed(MaxPooling2D((2, 2))))\n",
        "\n",
        "# model.add(TimeDistributed(Conv2D(32, (3, 3) , padding='same', activation='relu')))\n",
        "# model.add(TimeDistributed(BatchNormalization()))\n",
        "# model.add(TimeDistributed(MaxPooling2D((2, 2))))\n",
        "\n",
        "# model.add(TimeDistributed(Conv2D(64, (3, 3) , padding='same', activation='relu')))\n",
        "# model.add(TimeDistributed(BatchNormalization()))\n",
        "# model.add(TimeDistributed(MaxPooling2D((2, 2))))\n",
        "\n",
        "# model.add(TimeDistributed(Conv2D(128, (3, 3) , padding='same', activation='relu')))\n",
        "# model.add(TimeDistributed(BatchNormalization()))\n",
        "# model.add(TimeDistributed(MaxPooling2D((2, 2))))\n",
        "\n",
        "# model.add(TimeDistributed(Conv2D(256, (3, 3) , padding='same', activation='relu')))\n",
        "# model.add(TimeDistributed(BatchNormalization()))\n",
        "# model.add(TimeDistributed(MaxPooling2D((2, 2))))\n",
        "\n",
        "# #model.add(TimeDistributed(Conv2D(512, (2, 2) , padding='valid', activation='relu')))\n",
        "# # model.add(TimeDistributed(BatchNormalization()))\n",
        "# # model.add(TimeDistributed(MaxPooling2D((2, 2))))\n",
        "\n",
        "# model.add(TimeDistributed(Flatten()))\n",
        "\n",
        "\n",
        "# model.add(LSTM(lstm_cells))\n",
        "# model.add(Dropout(dropout))\n",
        "\n",
        "# model.add(Dense(dense_neurons,activation='relu'))\n",
        "# model.add(Dropout(dropout))\n",
        "\n",
        "# model.add(Dense(self.num_classes, activation='softmax'))"
      ],
      "metadata": {
        "id": "eY5Lt9BJpo1i"
      },
      "execution_count": null,
      "outputs": []
    },
    {
      "cell_type": "markdown",
      "source": [
        "# CNN (MobileNet)  + RNN"
      ],
      "metadata": {
        "id": "Ln-dplfeCgE0"
      }
    },
    {
      "cell_type": "code",
      "source": [
        "# Re-trained Mobile-Net CONV2D architecture followed by GRU (RNN)\n",
        "\n",
        "# mobilenet_transfer = mobilenet.MobileNet(weights='imagenet', include_top=False)\n",
        "\n",
        "# # CNN-RNN model\n",
        "# model = Sequential()\n",
        "# model.add(TimeDistributed(mobilenet_transfer,input_shape=(len(frames_to_sample),*image_shape)))\n",
        "\n",
        "# for layer in model.layers:\n",
        "    # layer.trainable = retrain\n",
        "\n",
        "# model.add(TimeDistributed(BatchNormalization()))\n",
        "# model.add(TimeDistributed(MaxPooling2D((2, 2))))\n",
        "# model.add(TimeDistributed(Flatten()))\n",
        "\n",
        "# model.add(GRU(gru_cells))\n",
        "# model.add(Dropout(dropout_ratio))\n",
        "\n",
        "# model.add(Dense(dense_layer,activation='relu'))\n",
        "# model.add(Dropout(dropout_ratio))\n",
        "\n",
        "# model.add(Dense(5, activation='softmax'))"
      ],
      "metadata": {
        "id": "FSgZtHlOCfqr"
      },
      "execution_count": null,
      "outputs": []
    },
    {
      "cell_type": "markdown",
      "source": [
        "# CNN(ResNet152V2) + RNN\n",
        "\n",
        "\n",
        "\n"
      ],
      "metadata": {
        "id": "vJzNKMm5C-gc"
      }
    },
    {
      "cell_type": "code",
      "source": [
        "# model = Sequential()\n",
        "# model.add(TimeDistributed(ResNet152V2(weights='imagenet', include_top=False),input_shape=input_shape, name='ResNet152V2', trainable=False))\n",
        "# model.add(TimeDistributed(GlobalAveragePooling2D()))\n",
        "# model.add(TimeDistributed(Dense(64, activation='relu')))\n",
        "# model.add(Dense(256, activation='relu'))\n",
        "# model.add(BatchNormalization())\n",
        "# model.add(GRU(128, return_sequences=True))\n",
        "# model.add(BatchNormalization())\n",
        "# model.add(Flatten())\n",
        "# model.add(Dense(256, activation='relu'))\n",
        "# model.add(Dense(num_classes, activation='softmax'))"
      ],
      "metadata": {
        "id": "8_pTuxf4C_I6"
      },
      "execution_count": null,
      "outputs": []
    },
    {
      "cell_type": "markdown",
      "source": [
        "Following Code remains same"
      ],
      "metadata": {
        "id": "HP2_2fClBvhl"
      }
    },
    {
      "cell_type": "code",
      "source": [
        "optimiser = optimizers.Adam()     #learning_rate=0.0005\n",
        "\n",
        "model.compile(optimizer=optimiser, loss='categorical_crossentropy', metrics=['categorical_accuracy'])"
      ],
      "metadata": {
        "id": "xMxYMpAZCAkv"
      },
      "execution_count": null,
      "outputs": []
    },
    {
      "cell_type": "code",
      "source": [
        "model.summary()"
      ],
      "metadata": {
        "colab": {
          "base_uri": "https://localhost:8080/"
        },
        "id": "SBu4qvFxBeAY",
        "outputId": "07fe8f8a-83d1-4aa7-9ee8-015b071af5f0"
      },
      "execution_count": null,
      "outputs": [
        {
          "output_type": "stream",
          "name": "stdout",
          "text": [
            "Model: \"sequential\"\n",
            "_________________________________________________________________\n",
            " Layer (type)                Output Shape              Param #   \n",
            "=================================================================\n",
            " conv3d (Conv3D)             (None, 30, 160, 160, 16   1312      \n",
            "                             )                                   \n",
            "                                                                 \n",
            " activation (Activation)     (None, 30, 160, 160, 16   0         \n",
            "                             )                                   \n",
            "                                                                 \n",
            " conv3d_1 (Conv3D)           (None, 30, 160, 160, 32   13856     \n",
            "                             )                                   \n",
            "                                                                 \n",
            " activation_1 (Activation)   (None, 30, 160, 160, 32   0         \n",
            "                             )                                   \n",
            "                                                                 \n",
            " max_pooling3d (MaxPooling3  (None, 15, 80, 80, 32)    0         \n",
            " D)                                                              \n",
            "                                                                 \n",
            " conv3d_2 (Conv3D)           (None, 15, 80, 80, 64)    55360     \n",
            "                                                                 \n",
            " activation_2 (Activation)   (None, 15, 80, 80, 64)    0         \n",
            "                                                                 \n",
            " max_pooling3d_1 (MaxPoolin  (None, 7, 40, 40, 64)     0         \n",
            " g3D)                                                            \n",
            "                                                                 \n",
            " conv3d_3 (Conv3D)           (None, 7, 40, 40, 128)    221312    \n",
            "                                                                 \n",
            " activation_3 (Activation)   (None, 7, 40, 40, 128)    0         \n",
            "                                                                 \n",
            " max_pooling3d_2 (MaxPoolin  (None, 3, 20, 20, 128)    0         \n",
            " g3D)                                                            \n",
            "                                                                 \n",
            " conv3d_4 (Conv3D)           (None, 3, 20, 20, 256)    884992    \n",
            "                                                                 \n",
            " activation_4 (Activation)   (None, 3, 20, 20, 256)    0         \n",
            "                                                                 \n",
            " batch_normalization (Batch  (None, 3, 20, 20, 256)    1024      \n",
            " Normalization)                                                  \n",
            "                                                                 \n",
            " max_pooling3d_3 (MaxPoolin  (None, 1, 10, 10, 256)    0         \n",
            " g3D)                                                            \n",
            "                                                                 \n",
            " flatten (Flatten)           (None, 25600)             0         \n",
            "                                                                 \n",
            " dense (Dense)               (None, 64)                1638464   \n",
            "                                                                 \n",
            " dense_1 (Dense)             (None, 64)                4160      \n",
            "                                                                 \n",
            " dropout (Dropout)           (None, 64)                0         \n",
            "                                                                 \n",
            " dense_2 (Dense)             (None, 5)                 325       \n",
            "                                                                 \n",
            "=================================================================\n",
            "Total params: 2820805 (10.76 MB)\n",
            "Trainable params: 2820293 (10.76 MB)\n",
            "Non-trainable params: 512 (2.00 KB)\n",
            "_________________________________________________________________\n"
          ]
        }
      ]
    },
    {
      "cell_type": "code",
      "source": [
        "model.count_params()"
      ],
      "metadata": {
        "colab": {
          "base_uri": "https://localhost:8080/"
        },
        "id": "YBXqprLZQXq0",
        "outputId": "c1e1b993-90b6-4950-be6c-e3261247f478"
      },
      "execution_count": null,
      "outputs": [
        {
          "output_type": "execute_result",
          "data": {
            "text/plain": [
              "2820805"
            ]
          },
          "metadata": {},
          "execution_count": 24
        }
      ]
    },
    {
      "cell_type": "code",
      "source": [
        "model.count_params()"
      ],
      "metadata": {
        "colab": {
          "base_uri": "https://localhost:8080/"
        },
        "id": "iEgKl6wPX8D6",
        "outputId": "5e7f0152-478a-4080-f6fb-9d373e17f03c"
      },
      "execution_count": null,
      "outputs": [
        {
          "output_type": "execute_result",
          "data": {
            "text/plain": [
              "2820805"
            ]
          },
          "metadata": {},
          "execution_count": 25
        }
      ]
    },
    {
      "cell_type": "code",
      "source": [
        "\n",
        "startTime = datetime.datetime.now()\n",
        "print(\"Training start time = \", startTime)\n",
        "\n",
        "model_history = model.fit_generator(\n",
        "    Trail_train_generator,\n",
        "    steps_per_epoch=steps_per_epoch,  # Set to the number of batches you want to process per epoch\n",
        "    epochs=num_epochs,\n",
        "    verbose=1,\n",
        "    callbacks=callbacks,\n",
        "    validation_data=Trail_val_generator,\n",
        "    validation_steps=validation_steps,  # Set to the number of validation batches per epoch\n",
        "    class_weight=None,\n",
        "    workers=1,\n",
        "    initial_epoch=0\n",
        ")\n",
        "\n",
        "endTime = datetime.datetime.now()\n",
        "print(\"Training end time = \", endTime)\n",
        "\n",
        "# Calculate and print total training time\n",
        "totalTrainingTime = endTime - startTime\n",
        "print(\"Total training time =\", totalTrainingTime)"
      ],
      "metadata": {
        "colab": {
          "base_uri": "https://localhost:8080/"
        },
        "id": "Fdnfo_M2Bd9p",
        "outputId": "5f834095-91f7-4bc2-d7d3-d20e4a0f03ca"
      },
      "execution_count": null,
      "outputs": [
        {
          "output_type": "stream",
          "name": "stdout",
          "text": [
            "Training start time =  2024-01-30 13:01:21.930915\n",
            "Source path =  /content/Project_data/Project_data/train ; batch size = 10\n",
            "Epoch 1/55\n",
            "65/67 [============================>.] - ETA: 2s - loss: 2.8979 - categorical_accuracy: 0.3000Batch:  67 Index: 10\n",
            "67/67 [==============================] - ETA: 0s - loss: 2.8832 - categorical_accuracy: 0.3062Source path =  /content/Project_data/Project_data/val ; batch size = 10\n",
            "\n",
            "Epoch 1: saving model to Conv3D_Model_2024-01-3013_01_18.749639/model-00001-2.88317-0.30618-2.52998-0.21000.h5\n",
            "67/67 [==============================] - 132s 2s/step - loss: 2.8832 - categorical_accuracy: 0.3062 - val_loss: 2.5300 - val_categorical_accuracy: 0.2100 - lr: 0.0010\n",
            "Epoch 2/55\n",
            "67/67 [==============================] - ETA: 0s - loss: 2.2063 - categorical_accuracy: 0.2935\n",
            "Epoch 2: saving model to Conv3D_Model_2024-01-3013_01_18.749639/model-00002-2.20629-0.29353-2.22828-0.20000.h5\n",
            "67/67 [==============================] - 39s 582ms/step - loss: 2.2063 - categorical_accuracy: 0.2935 - val_loss: 2.2283 - val_categorical_accuracy: 0.2000 - lr: 0.0010\n",
            "Epoch 3/55\n",
            "67/67 [==============================] - ETA: 0s - loss: 2.2456 - categorical_accuracy: 0.3035\n",
            "Epoch 3: saving model to Conv3D_Model_2024-01-3013_01_18.749639/model-00003-2.24556-0.30348-2.26340-0.18000.h5\n",
            "67/67 [==============================] - 38s 575ms/step - loss: 2.2456 - categorical_accuracy: 0.3035 - val_loss: 2.2634 - val_categorical_accuracy: 0.1800 - lr: 0.0010\n",
            "Epoch 4/55\n",
            "67/67 [==============================] - ETA: 0s - loss: 2.0759 - categorical_accuracy: 0.2786\n",
            "Epoch 4: saving model to Conv3D_Model_2024-01-3013_01_18.749639/model-00004-2.07594-0.27861-2.05522-0.14000.h5\n",
            "67/67 [==============================] - 41s 611ms/step - loss: 2.0759 - categorical_accuracy: 0.2786 - val_loss: 2.0552 - val_categorical_accuracy: 0.1400 - lr: 0.0010\n",
            "Epoch 5/55\n",
            "67/67 [==============================] - ETA: 0s - loss: 1.7930 - categorical_accuracy: 0.3831\n",
            "Epoch 5: saving model to Conv3D_Model_2024-01-3013_01_18.749639/model-00005-1.79297-0.38308-2.19318-0.12000.h5\n",
            "67/67 [==============================] - 46s 695ms/step - loss: 1.7930 - categorical_accuracy: 0.3831 - val_loss: 2.1932 - val_categorical_accuracy: 0.1200 - lr: 0.0010\n",
            "Epoch 6/55\n",
            "67/67 [==============================] - ETA: 0s - loss: 1.6520 - categorical_accuracy: 0.3682\n",
            "Epoch 6: saving model to Conv3D_Model_2024-01-3013_01_18.749639/model-00006-1.65200-0.36816-1.79488-0.22000.h5\n",
            "67/67 [==============================] - 44s 666ms/step - loss: 1.6520 - categorical_accuracy: 0.3682 - val_loss: 1.7949 - val_categorical_accuracy: 0.2200 - lr: 0.0010\n",
            "Epoch 7/55\n",
            "67/67 [==============================] - ETA: 0s - loss: 1.6134 - categorical_accuracy: 0.4279\n",
            "Epoch 7: saving model to Conv3D_Model_2024-01-3013_01_18.749639/model-00007-1.61340-0.42786-1.51588-0.51000.h5\n",
            "67/67 [==============================] - 37s 558ms/step - loss: 1.6134 - categorical_accuracy: 0.4279 - val_loss: 1.5159 - val_categorical_accuracy: 0.5100 - lr: 0.0010\n",
            "Epoch 8/55\n",
            "67/67 [==============================] - ETA: 0s - loss: 1.5503 - categorical_accuracy: 0.3781\n",
            "Epoch 8: saving model to Conv3D_Model_2024-01-3013_01_18.749639/model-00008-1.55026-0.37811-1.45714-0.52000.h5\n",
            "67/67 [==============================] - 44s 657ms/step - loss: 1.5503 - categorical_accuracy: 0.3781 - val_loss: 1.4571 - val_categorical_accuracy: 0.5200 - lr: 0.0010\n",
            "Epoch 9/55\n",
            "67/67 [==============================] - ETA: 0s - loss: 1.4211 - categorical_accuracy: 0.4677\n",
            "Epoch 9: saving model to Conv3D_Model_2024-01-3013_01_18.749639/model-00009-1.42112-0.46766-1.61879-0.29000.h5\n",
            "67/67 [==============================] - 47s 713ms/step - loss: 1.4211 - categorical_accuracy: 0.4677 - val_loss: 1.6188 - val_categorical_accuracy: 0.2900 - lr: 0.0010\n",
            "Epoch 10/55\n",
            "67/67 [==============================] - ETA: 0s - loss: 1.4439 - categorical_accuracy: 0.4030\n",
            "Epoch 10: saving model to Conv3D_Model_2024-01-3013_01_18.749639/model-00010-1.44386-0.40299-1.38970-0.45000.h5\n",
            "67/67 [==============================] - 44s 660ms/step - loss: 1.4439 - categorical_accuracy: 0.4030 - val_loss: 1.3897 - val_categorical_accuracy: 0.4500 - lr: 0.0010\n",
            "Epoch 11/55\n",
            "67/67 [==============================] - ETA: 0s - loss: 1.4483 - categorical_accuracy: 0.4428\n",
            "Epoch 11: saving model to Conv3D_Model_2024-01-3013_01_18.749639/model-00011-1.44835-0.44279-1.24810-0.52000.h5\n",
            "67/67 [==============================] - 43s 654ms/step - loss: 1.4483 - categorical_accuracy: 0.4428 - val_loss: 1.2481 - val_categorical_accuracy: 0.5200 - lr: 0.0010\n",
            "Epoch 12/55\n",
            "67/67 [==============================] - ETA: 0s - loss: 1.3024 - categorical_accuracy: 0.4826\n",
            "Epoch 12: saving model to Conv3D_Model_2024-01-3013_01_18.749639/model-00012-1.30243-0.48259-1.26980-0.52000.h5\n",
            "67/67 [==============================] - 43s 647ms/step - loss: 1.3024 - categorical_accuracy: 0.4826 - val_loss: 1.2698 - val_categorical_accuracy: 0.5200 - lr: 0.0010\n",
            "Epoch 13/55\n",
            "67/67 [==============================] - ETA: 0s - loss: 1.3084 - categorical_accuracy: 0.4577\n",
            "Epoch 13: saving model to Conv3D_Model_2024-01-3013_01_18.749639/model-00013-1.30838-0.45771-1.64975-0.43000.h5\n",
            "67/67 [==============================] - 39s 591ms/step - loss: 1.3084 - categorical_accuracy: 0.4577 - val_loss: 1.6498 - val_categorical_accuracy: 0.4300 - lr: 0.0010\n",
            "Epoch 14/55\n",
            "67/67 [==============================] - ETA: 0s - loss: 1.3574 - categorical_accuracy: 0.4975\n",
            "Epoch 14: saving model to Conv3D_Model_2024-01-3013_01_18.749639/model-00014-1.35735-0.49751-1.20887-0.58000.h5\n",
            "67/67 [==============================] - 46s 692ms/step - loss: 1.3574 - categorical_accuracy: 0.4975 - val_loss: 1.2089 - val_categorical_accuracy: 0.5800 - lr: 0.0010\n",
            "Epoch 15/55\n",
            "67/67 [==============================] - ETA: 0s - loss: 1.2717 - categorical_accuracy: 0.4726\n",
            "Epoch 15: saving model to Conv3D_Model_2024-01-3013_01_18.749639/model-00015-1.27167-0.47264-1.77995-0.29000.h5\n",
            "67/67 [==============================] - 37s 557ms/step - loss: 1.2717 - categorical_accuracy: 0.4726 - val_loss: 1.7800 - val_categorical_accuracy: 0.2900 - lr: 0.0010\n",
            "Epoch 16/55\n",
            "67/67 [==============================] - ETA: 0s - loss: 1.4707 - categorical_accuracy: 0.4876\n",
            "Epoch 16: saving model to Conv3D_Model_2024-01-3013_01_18.749639/model-00016-1.47072-0.48756-4.24237-0.20000.h5\n",
            "67/67 [==============================] - 45s 675ms/step - loss: 1.4707 - categorical_accuracy: 0.4876 - val_loss: 4.2424 - val_categorical_accuracy: 0.2000 - lr: 0.0010\n",
            "Epoch 17/55\n",
            "67/67 [==============================] - ETA: 0s - loss: 1.4579 - categorical_accuracy: 0.4478\n",
            "Epoch 17: saving model to Conv3D_Model_2024-01-3013_01_18.749639/model-00017-1.45789-0.44776-1.51544-0.48000.h5\n",
            "67/67 [==============================] - 46s 696ms/step - loss: 1.4579 - categorical_accuracy: 0.4478 - val_loss: 1.5154 - val_categorical_accuracy: 0.4800 - lr: 0.0010\n",
            "Epoch 18/55\n",
            "67/67 [==============================] - ETA: 0s - loss: 1.2050 - categorical_accuracy: 0.5721\n",
            "Epoch 18: saving model to Conv3D_Model_2024-01-3013_01_18.749639/model-00018-1.20504-0.57214-1.67230-0.47000.h5\n",
            "67/67 [==============================] - 43s 640ms/step - loss: 1.2050 - categorical_accuracy: 0.5721 - val_loss: 1.6723 - val_categorical_accuracy: 0.4700 - lr: 0.0010\n",
            "Epoch 19/55\n",
            "67/67 [==============================] - ETA: 0s - loss: 1.2001 - categorical_accuracy: 0.5572\n",
            "Epoch 19: saving model to Conv3D_Model_2024-01-3013_01_18.749639/model-00019-1.20007-0.55721-1.12054-0.61000.h5\n",
            "67/67 [==============================] - 38s 574ms/step - loss: 1.2001 - categorical_accuracy: 0.5572 - val_loss: 1.1205 - val_categorical_accuracy: 0.6100 - lr: 2.0000e-04\n",
            "Epoch 20/55\n",
            "67/67 [==============================] - ETA: 0s - loss: 1.1773 - categorical_accuracy: 0.5771\n",
            "Epoch 20: saving model to Conv3D_Model_2024-01-3013_01_18.749639/model-00020-1.17728-0.57711-1.10331-0.63000.h5\n",
            "67/67 [==============================] - 44s 667ms/step - loss: 1.1773 - categorical_accuracy: 0.5771 - val_loss: 1.1033 - val_categorical_accuracy: 0.6300 - lr: 2.0000e-04\n",
            "Epoch 21/55\n",
            "67/67 [==============================] - ETA: 0s - loss: 1.0725 - categorical_accuracy: 0.6219\n",
            "Epoch 21: saving model to Conv3D_Model_2024-01-3013_01_18.749639/model-00021-1.07250-0.62189-1.09739-0.62000.h5\n",
            "67/67 [==============================] - 45s 680ms/step - loss: 1.0725 - categorical_accuracy: 0.6219 - val_loss: 1.0974 - val_categorical_accuracy: 0.6200 - lr: 2.0000e-04\n",
            "Epoch 22/55\n",
            "67/67 [==============================] - ETA: 0s - loss: 1.0297 - categorical_accuracy: 0.6269\n",
            "Epoch 22: saving model to Conv3D_Model_2024-01-3013_01_18.749639/model-00022-1.02972-0.62687-0.97429-0.71000.h5\n",
            "67/67 [==============================] - 44s 669ms/step - loss: 1.0297 - categorical_accuracy: 0.6269 - val_loss: 0.9743 - val_categorical_accuracy: 0.7100 - lr: 2.0000e-04\n",
            "Epoch 23/55\n",
            "67/67 [==============================] - ETA: 0s - loss: 0.9811 - categorical_accuracy: 0.6517\n",
            "Epoch 23: saving model to Conv3D_Model_2024-01-3013_01_18.749639/model-00023-0.98110-0.65174-0.94221-0.73000.h5\n",
            "67/67 [==============================] - 45s 681ms/step - loss: 0.9811 - categorical_accuracy: 0.6517 - val_loss: 0.9422 - val_categorical_accuracy: 0.7300 - lr: 2.0000e-04\n",
            "Epoch 24/55\n",
            "67/67 [==============================] - ETA: 0s - loss: 0.9722 - categorical_accuracy: 0.6716\n",
            "Epoch 24: saving model to Conv3D_Model_2024-01-3013_01_18.749639/model-00024-0.97224-0.67164-0.95634-0.70000.h5\n",
            "67/67 [==============================] - 44s 661ms/step - loss: 0.9722 - categorical_accuracy: 0.6716 - val_loss: 0.9563 - val_categorical_accuracy: 0.7000 - lr: 2.0000e-04\n",
            "Epoch 25/55\n",
            "67/67 [==============================] - ETA: 0s - loss: 0.8833 - categorical_accuracy: 0.7214\n",
            "Epoch 25: saving model to Conv3D_Model_2024-01-3013_01_18.749639/model-00025-0.88330-0.72139-0.97034-0.71000.h5\n",
            "67/67 [==============================] - 44s 655ms/step - loss: 0.8833 - categorical_accuracy: 0.7214 - val_loss: 0.9703 - val_categorical_accuracy: 0.7100 - lr: 2.0000e-04\n",
            "Epoch 26/55\n",
            "67/67 [==============================] - ETA: 0s - loss: 0.9147 - categorical_accuracy: 0.6468\n",
            "Epoch 26: saving model to Conv3D_Model_2024-01-3013_01_18.749639/model-00026-0.91470-0.64677-0.86827-0.69000.h5\n",
            "67/67 [==============================] - 44s 666ms/step - loss: 0.9147 - categorical_accuracy: 0.6468 - val_loss: 0.8683 - val_categorical_accuracy: 0.6900 - lr: 2.0000e-04\n",
            "Epoch 27/55\n",
            "67/67 [==============================] - ETA: 0s - loss: 0.7832 - categorical_accuracy: 0.7662\n",
            "Epoch 27: saving model to Conv3D_Model_2024-01-3013_01_18.749639/model-00027-0.78322-0.76617-1.11541-0.62000.h5\n",
            "67/67 [==============================] - 44s 663ms/step - loss: 0.7832 - categorical_accuracy: 0.7662 - val_loss: 1.1154 - val_categorical_accuracy: 0.6200 - lr: 2.0000e-04\n",
            "Epoch 28/55\n",
            "67/67 [==============================] - ETA: 0s - loss: 0.8165 - categorical_accuracy: 0.7413\n",
            "Epoch 28: saving model to Conv3D_Model_2024-01-3013_01_18.749639/model-00028-0.81649-0.74129-0.88110-0.70000.h5\n",
            "67/67 [==============================] - 38s 574ms/step - loss: 0.8165 - categorical_accuracy: 0.7413 - val_loss: 0.8811 - val_categorical_accuracy: 0.7000 - lr: 2.0000e-04\n",
            "Epoch 29/55\n",
            "67/67 [==============================] - ETA: 0s - loss: 0.6930 - categorical_accuracy: 0.8259\n",
            "Epoch 29: saving model to Conv3D_Model_2024-01-3013_01_18.749639/model-00029-0.69300-0.82587-1.05810-0.66000.h5\n",
            "67/67 [==============================] - 38s 578ms/step - loss: 0.6930 - categorical_accuracy: 0.8259 - val_loss: 1.0581 - val_categorical_accuracy: 0.6600 - lr: 2.0000e-04\n",
            "Epoch 30/55\n",
            "67/67 [==============================] - ETA: 0s - loss: 0.7942 - categorical_accuracy: 0.7214\n",
            "Epoch 30: saving model to Conv3D_Model_2024-01-3013_01_18.749639/model-00030-0.79424-0.72139-1.00435-0.64000.h5\n",
            "67/67 [==============================] - 39s 586ms/step - loss: 0.7942 - categorical_accuracy: 0.7214 - val_loss: 1.0043 - val_categorical_accuracy: 0.6400 - lr: 2.0000e-04\n",
            "Epoch 31/55\n",
            "67/67 [==============================] - ETA: 0s - loss: 0.6748 - categorical_accuracy: 0.8408\n",
            "Epoch 31: saving model to Conv3D_Model_2024-01-3013_01_18.749639/model-00031-0.67477-0.84080-0.83873-0.72000.h5\n",
            "67/67 [==============================] - 44s 666ms/step - loss: 0.6748 - categorical_accuracy: 0.8408 - val_loss: 0.8387 - val_categorical_accuracy: 0.7200 - lr: 4.0000e-05\n",
            "Epoch 32/55\n",
            "67/67 [==============================] - ETA: 0s - loss: 0.5996 - categorical_accuracy: 0.8507\n",
            "Epoch 32: saving model to Conv3D_Model_2024-01-3013_01_18.749639/model-00032-0.59964-0.85075-0.80027-0.73000.h5\n",
            "67/67 [==============================] - 45s 681ms/step - loss: 0.5996 - categorical_accuracy: 0.8507 - val_loss: 0.8003 - val_categorical_accuracy: 0.7300 - lr: 4.0000e-05\n",
            "Epoch 33/55\n",
            "67/67 [==============================] - ETA: 0s - loss: 0.5487 - categorical_accuracy: 0.9104\n",
            "Epoch 33: saving model to Conv3D_Model_2024-01-3013_01_18.749639/model-00033-0.54868-0.91045-0.76508-0.76000.h5\n",
            "67/67 [==============================] - 43s 653ms/step - loss: 0.5487 - categorical_accuracy: 0.9104 - val_loss: 0.7651 - val_categorical_accuracy: 0.7600 - lr: 4.0000e-05\n",
            "Epoch 34/55\n",
            "67/67 [==============================] - ETA: 0s - loss: 0.6063 - categorical_accuracy: 0.8358\n",
            "Epoch 34: saving model to Conv3D_Model_2024-01-3013_01_18.749639/model-00034-0.60634-0.83582-0.88823-0.68000.h5\n",
            "67/67 [==============================] - 40s 597ms/step - loss: 0.6063 - categorical_accuracy: 0.8358 - val_loss: 0.8882 - val_categorical_accuracy: 0.6800 - lr: 4.0000e-05\n",
            "Epoch 35/55\n",
            "67/67 [==============================] - ETA: 0s - loss: 0.5143 - categorical_accuracy: 0.9055\n",
            "Epoch 35: saving model to Conv3D_Model_2024-01-3013_01_18.749639/model-00035-0.51428-0.90547-0.74055-0.77000.h5\n",
            "67/67 [==============================] - 43s 644ms/step - loss: 0.5143 - categorical_accuracy: 0.9055 - val_loss: 0.7405 - val_categorical_accuracy: 0.7700 - lr: 4.0000e-05\n",
            "Epoch 36/55\n",
            "67/67 [==============================] - ETA: 0s - loss: 0.4937 - categorical_accuracy: 0.8905\n",
            "Epoch 36: saving model to Conv3D_Model_2024-01-3013_01_18.749639/model-00036-0.49375-0.89055-0.85021-0.73000.h5\n",
            "67/67 [==============================] - 38s 574ms/step - loss: 0.4937 - categorical_accuracy: 0.8905 - val_loss: 0.8502 - val_categorical_accuracy: 0.7300 - lr: 4.0000e-05\n",
            "Epoch 37/55\n",
            "67/67 [==============================] - ETA: 0s - loss: 0.4849 - categorical_accuracy: 0.8955\n",
            "Epoch 37: saving model to Conv3D_Model_2024-01-3013_01_18.749639/model-00037-0.48495-0.89552-0.73819-0.75000.h5\n",
            "67/67 [==============================] - 46s 688ms/step - loss: 0.4849 - categorical_accuracy: 0.8955 - val_loss: 0.7382 - val_categorical_accuracy: 0.7500 - lr: 4.0000e-05\n",
            "Epoch 38/55\n",
            "67/67 [==============================] - ETA: 0s - loss: 0.4876 - categorical_accuracy: 0.8905\n",
            "Epoch 38: saving model to Conv3D_Model_2024-01-3013_01_18.749639/model-00038-0.48755-0.89055-0.76811-0.80000.h5\n",
            "67/67 [==============================] - 44s 667ms/step - loss: 0.4876 - categorical_accuracy: 0.8905 - val_loss: 0.7681 - val_categorical_accuracy: 0.8000 - lr: 4.0000e-05\n",
            "Epoch 39/55\n",
            "67/67 [==============================] - ETA: 0s - loss: 0.5041 - categorical_accuracy: 0.8706\n",
            "Epoch 39: saving model to Conv3D_Model_2024-01-3013_01_18.749639/model-00039-0.50412-0.87065-0.77521-0.75000.h5\n",
            "67/67 [==============================] - 46s 688ms/step - loss: 0.5041 - categorical_accuracy: 0.8706 - val_loss: 0.7752 - val_categorical_accuracy: 0.7500 - lr: 4.0000e-05\n",
            "Epoch 40/55\n",
            "67/67 [==============================] - ETA: 0s - loss: 0.4564 - categorical_accuracy: 0.9154\n",
            "Epoch 40: saving model to Conv3D_Model_2024-01-3013_01_18.749639/model-00040-0.45639-0.91542-0.73662-0.76000.h5\n",
            "67/67 [==============================] - 44s 669ms/step - loss: 0.4564 - categorical_accuracy: 0.9154 - val_loss: 0.7366 - val_categorical_accuracy: 0.7600 - lr: 4.0000e-05\n",
            "Epoch 41/55\n",
            "67/67 [==============================] - ETA: 0s - loss: 0.4868 - categorical_accuracy: 0.8955\n",
            "Epoch 41: saving model to Conv3D_Model_2024-01-3013_01_18.749639/model-00041-0.48679-0.89552-0.77397-0.74000.h5\n",
            "67/67 [==============================] - 45s 678ms/step - loss: 0.4868 - categorical_accuracy: 0.8955 - val_loss: 0.7740 - val_categorical_accuracy: 0.7400 - lr: 4.0000e-05\n",
            "Epoch 42/55\n",
            "67/67 [==============================] - ETA: 0s - loss: 0.4052 - categorical_accuracy: 0.9353\n",
            "Epoch 42: saving model to Conv3D_Model_2024-01-3013_01_18.749639/model-00042-0.40522-0.93532-0.78057-0.73000.h5\n",
            "67/67 [==============================] - 44s 663ms/step - loss: 0.4052 - categorical_accuracy: 0.9353 - val_loss: 0.7806 - val_categorical_accuracy: 0.7300 - lr: 4.0000e-05\n",
            "Epoch 43/55\n",
            "67/67 [==============================] - ETA: 0s - loss: 0.4272 - categorical_accuracy: 0.9204\n",
            "Epoch 43: saving model to Conv3D_Model_2024-01-3013_01_18.749639/model-00043-0.42718-0.92040-0.67520-0.83000.h5\n",
            "67/67 [==============================] - 46s 690ms/step - loss: 0.4272 - categorical_accuracy: 0.9204 - val_loss: 0.6752 - val_categorical_accuracy: 0.8300 - lr: 4.0000e-05\n",
            "Epoch 44/55\n",
            "67/67 [==============================] - ETA: 0s - loss: 0.4370 - categorical_accuracy: 0.8856\n",
            "Epoch 44: saving model to Conv3D_Model_2024-01-3013_01_18.749639/model-00044-0.43705-0.88557-0.81045-0.77000.h5\n",
            "67/67 [==============================] - 44s 655ms/step - loss: 0.4370 - categorical_accuracy: 0.8856 - val_loss: 0.8104 - val_categorical_accuracy: 0.7700 - lr: 4.0000e-05\n",
            "Epoch 45/55\n",
            "67/67 [==============================] - ETA: 0s - loss: 0.4102 - categorical_accuracy: 0.9403\n",
            "Epoch 45: saving model to Conv3D_Model_2024-01-3013_01_18.749639/model-00045-0.41019-0.94030-0.78341-0.78000.h5\n",
            "67/67 [==============================] - 44s 656ms/step - loss: 0.4102 - categorical_accuracy: 0.9403 - val_loss: 0.7834 - val_categorical_accuracy: 0.7800 - lr: 4.0000e-05\n",
            "Epoch 46/55\n",
            "67/67 [==============================] - ETA: 0s - loss: 0.4184 - categorical_accuracy: 0.9005\n",
            "Epoch 46: saving model to Conv3D_Model_2024-01-3013_01_18.749639/model-00046-0.41842-0.90050-0.71870-0.80000.h5\n",
            "67/67 [==============================] - 45s 669ms/step - loss: 0.4184 - categorical_accuracy: 0.9005 - val_loss: 0.7187 - val_categorical_accuracy: 0.8000 - lr: 4.0000e-05\n",
            "Epoch 47/55\n",
            "67/67 [==============================] - ETA: 0s - loss: 0.3999 - categorical_accuracy: 0.9303\n",
            "Epoch 47: saving model to Conv3D_Model_2024-01-3013_01_18.749639/model-00047-0.39993-0.93035-0.65771-0.79000.h5\n",
            "67/67 [==============================] - 39s 579ms/step - loss: 0.3999 - categorical_accuracy: 0.9303 - val_loss: 0.6577 - val_categorical_accuracy: 0.7900 - lr: 4.0000e-05\n",
            "Epoch 48/55\n",
            "67/67 [==============================] - ETA: 0s - loss: 0.3152 - categorical_accuracy: 0.9652\n",
            "Epoch 48: saving model to Conv3D_Model_2024-01-3013_01_18.749639/model-00048-0.31522-0.96517-0.68826-0.79000.h5\n",
            "67/67 [==============================] - 39s 588ms/step - loss: 0.3152 - categorical_accuracy: 0.9652 - val_loss: 0.6883 - val_categorical_accuracy: 0.7900 - lr: 4.0000e-05\n",
            "Epoch 49/55\n",
            "67/67 [==============================] - ETA: 0s - loss: 0.3645 - categorical_accuracy: 0.9403\n",
            "Epoch 49: saving model to Conv3D_Model_2024-01-3013_01_18.749639/model-00049-0.36446-0.94030-0.79110-0.80000.h5\n",
            "67/67 [==============================] - 38s 568ms/step - loss: 0.3645 - categorical_accuracy: 0.9403 - val_loss: 0.7911 - val_categorical_accuracy: 0.8000 - lr: 4.0000e-05\n",
            "Epoch 50/55\n",
            "67/67 [==============================] - ETA: 0s - loss: 0.3944 - categorical_accuracy: 0.9005\n",
            "Epoch 50: saving model to Conv3D_Model_2024-01-3013_01_18.749639/model-00050-0.39441-0.90050-0.74778-0.75000.h5\n",
            "67/67 [==============================] - 39s 589ms/step - loss: 0.3944 - categorical_accuracy: 0.9005 - val_loss: 0.7478 - val_categorical_accuracy: 0.7500 - lr: 4.0000e-05\n",
            "Epoch 51/55\n",
            "67/67 [==============================] - ETA: 0s - loss: 0.3454 - categorical_accuracy: 0.9353\n",
            "Epoch 51: saving model to Conv3D_Model_2024-01-3013_01_18.749639/model-00051-0.34538-0.93532-0.75473-0.76000.h5\n",
            "67/67 [==============================] - 43s 643ms/step - loss: 0.3454 - categorical_accuracy: 0.9353 - val_loss: 0.7547 - val_categorical_accuracy: 0.7600 - lr: 4.0000e-05\n",
            "Epoch 52/55\n",
            "67/67 [==============================] - ETA: 0s - loss: 0.3284 - categorical_accuracy: 0.9552\n",
            "Epoch 52: saving model to Conv3D_Model_2024-01-3013_01_18.749639/model-00052-0.32843-0.95522-0.71741-0.76000.h5\n",
            "67/67 [==============================] - 45s 677ms/step - loss: 0.3284 - categorical_accuracy: 0.9552 - val_loss: 0.7174 - val_categorical_accuracy: 0.7600 - lr: 8.0000e-06\n",
            "Epoch 53/55\n",
            "67/67 [==============================] - ETA: 0s - loss: 0.3199 - categorical_accuracy: 0.9652\n",
            "Epoch 53: saving model to Conv3D_Model_2024-01-3013_01_18.749639/model-00053-0.31992-0.96517-0.71463-0.77000.h5\n",
            "67/67 [==============================] - 45s 673ms/step - loss: 0.3199 - categorical_accuracy: 0.9652 - val_loss: 0.7146 - val_categorical_accuracy: 0.7700 - lr: 8.0000e-06\n",
            "Epoch 54/55\n",
            "67/67 [==============================] - ETA: 0s - loss: 0.3457 - categorical_accuracy: 0.9502\n",
            "Epoch 54: saving model to Conv3D_Model_2024-01-3013_01_18.749639/model-00054-0.34570-0.95025-0.77560-0.76000.h5\n",
            "67/67 [==============================] - 43s 653ms/step - loss: 0.3457 - categorical_accuracy: 0.9502 - val_loss: 0.7756 - val_categorical_accuracy: 0.7600 - lr: 8.0000e-06\n",
            "Epoch 55/55\n",
            "67/67 [==============================] - ETA: 0s - loss: 0.3207 - categorical_accuracy: 0.9453\n",
            "Epoch 55: saving model to Conv3D_Model_2024-01-3013_01_18.749639/model-00055-0.32067-0.94527-0.63560-0.82000.h5\n",
            "67/67 [==============================] - 38s 575ms/step - loss: 0.3207 - categorical_accuracy: 0.9453 - val_loss: 0.6356 - val_categorical_accuracy: 0.8200 - lr: 8.0000e-06\n",
            "Training end time =  2024-01-30 13:41:54.199859\n",
            "Total training time = 0:40:32.268944\n"
          ]
        }
      ]
    },
    {
      "cell_type": "code",
      "source": [
        "plot_model_history(model_history)"
      ],
      "metadata": {
        "id": "YSIW5NBYBgZ2",
        "colab": {
          "base_uri": "https://localhost:8080/",
          "height": 363
        },
        "outputId": "2dab2d58-00ad-4a7e-c3a2-99bb5b6e0769"
      },
      "execution_count": null,
      "outputs": [
        {
          "output_type": "display_data",
          "data": {
            "text/plain": [
              "<Figure size 1500x400 with 2 Axes>"
            ],
            "image/png": "[encoded data removed]"
          },
          "metadata": {}
        }
      ]
    },
    {
      "cell_type": "markdown",
      "source": [
        "## Copy The Best model to drive"
      ],
      "metadata": {
        "id": "q2gXF2atS_l-"
      }
    },
    {
      "cell_type": "code",
      "source": [
        "import shutil\n",
        "\n",
        "# Specify the source path of the file\n",
        "source_path = \"/content/Conv3D_Model_2024-01-3013_01_18.749639/model-00055-0.32067-0.94527-0.63560-0.82000.h5\"\n",
        "\n",
        "# Specify the destination directory in your Google Drive\n",
        "destination_directory = \"/content/drive/MyDrive/Conv3D_Model/\"\n",
        "\n",
        "# Create the destination directory if it doesn't exist\n",
        "os.makedirs(destination_directory, exist_ok=True)\n",
        "\n",
        "# Specify the destination path including the file name\n",
        "destination_path = os.path.join(destination_directory, \"model-00055-0.32067-0.94527-0.63560-0.82000.h5\")\n",
        "\n",
        "# Copy the file to your Google Drive\n",
        "shutil.copyfile(source_path, destination_path)"
      ],
      "metadata": {
        "id": "U1tbDXd1Bd6e",
        "colab": {
          "base_uri": "https://localhost:8080/",
          "height": 35
        },
        "outputId": "86b69f43-ca62-4819-819a-4d29c288a4c5"
      },
      "execution_count": null,
      "outputs": [
        {
          "output_type": "execute_result",
          "data": {
            "text/plain": [
              "'/content/drive/MyDrive/Conv3D_Model/model-00055-0.32067-0.94527-0.63560-0.82000.h5'"
            ],
            "application/vnd.google.colaboratory.intrinsic+json": {
              "type": "string"
            }
          },
          "metadata": {},
          "execution_count": 29
        }
      ]
    },
    {
      "cell_type": "code",
      "source": [],
      "metadata": {
        "id": "lijvlWoIUxkV"
      },
      "execution_count": null,
      "outputs": []
    }
  ]
}